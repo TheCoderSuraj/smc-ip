{
 "cells": [
  {
   "cell_type": "code",
   "execution_count": 1,
   "metadata": {},
   "outputs": [],
   "source": [
    "import numpy as np\n",
    "import rasterio"
   ]
  },
  {
   "cell_type": "code",
   "execution_count": 2,
   "metadata": {},
   "outputs": [],
   "source": [
    "sent_path = 'res/sent1-march-v1/2022-03-11.tif'\n",
    "smap_path = 'res/smapL4-march-v1/2022-03-11.tif'"
   ]
  },
  {
   "cell_type": "code",
   "execution_count": 3,
   "metadata": {},
   "outputs": [],
   "source": [
    "# Load the Sentinel-1 data\n",
    "with rasterio.open(sent_path) as dataset:\n",
    "    sentinel_data = dataset.read()\n",
    "\n",
    "# Load the SMAP soil moisture data\n",
    "with rasterio.open(smap_path) as dataset:\n",
    "    soil_moisture = dataset.read()\n",
    "\n"
   ]
  },
  {
   "cell_type": "code",
   "execution_count": 4,
   "metadata": {},
   "outputs": [
    {
     "ename": "MemoryError",
     "evalue": "Unable to allocate 63.0 GiB for an array with shape (121830, 138744) and data type float32",
     "output_type": "error",
     "traceback": [
      "\u001b[0;31m---------------------------------------------------------------------------\u001b[0m",
      "\u001b[0;31mMemoryError\u001b[0m                               Traceback (most recent call last)",
      "Cell \u001b[0;32mIn[4], line 5\u001b[0m\n\u001b[1;32m      2\u001b[0m sentinel_data \u001b[39m=\u001b[39m (sentinel_data \u001b[39m-\u001b[39m np\u001b[39m.\u001b[39mmin(sentinel_data)) \u001b[39m/\u001b[39m (np\u001b[39m.\u001b[39mmax(sentinel_data) \u001b[39m-\u001b[39m np\u001b[39m.\u001b[39mmin(sentinel_data))\n\u001b[1;32m      4\u001b[0m \u001b[39m# Convert the SMAP soil moisture data to the same shape as the Sentinel-1 data\u001b[39;00m\n\u001b[0;32m----> 5\u001b[0m soil_moisture \u001b[39m=\u001b[39m np\u001b[39m.\u001b[39mtile(soil_moisture, (sentinel_data\u001b[39m.\u001b[39mshape[\u001b[39m1\u001b[39m], sentinel_data\u001b[39m.\u001b[39mshape[\u001b[39m2\u001b[39m], \u001b[39m1\u001b[39m))\n\u001b[1;32m      6\u001b[0m soil_moisture \u001b[39m=\u001b[39m soil_moisture\u001b[39m.\u001b[39mtranspose((\u001b[39m2\u001b[39m, \u001b[39m0\u001b[39m, \u001b[39m1\u001b[39m))\n",
      "File \u001b[0;32m<__array_function__ internals>:200\u001b[0m, in \u001b[0;36mtile\u001b[0;34m(*args, **kwargs)\u001b[0m\n",
      "File \u001b[0;32m~/anaconda3/envs/smc-ip_Env/lib/python3.11/site-packages/numpy/lib/shape_base.py:1278\u001b[0m, in \u001b[0;36mtile\u001b[0;34m(A, reps)\u001b[0m\n\u001b[1;32m   1276\u001b[0m     \u001b[39mfor\u001b[39;00m dim_in, nrep \u001b[39min\u001b[39;00m \u001b[39mzip\u001b[39m(c\u001b[39m.\u001b[39mshape, tup):\n\u001b[1;32m   1277\u001b[0m         \u001b[39mif\u001b[39;00m nrep \u001b[39m!=\u001b[39m \u001b[39m1\u001b[39m:\n\u001b[0;32m-> 1278\u001b[0m             c \u001b[39m=\u001b[39m c\u001b[39m.\u001b[39mreshape(\u001b[39m-\u001b[39m\u001b[39m1\u001b[39m, n)\u001b[39m.\u001b[39mrepeat(nrep, \u001b[39m0\u001b[39m)\n\u001b[1;32m   1279\u001b[0m         n \u001b[39m/\u001b[39m\u001b[39m/\u001b[39m\u001b[39m=\u001b[39m dim_in\n\u001b[1;32m   1280\u001b[0m \u001b[39mreturn\u001b[39;00m c\u001b[39m.\u001b[39mreshape(shape_out)\n",
      "\u001b[0;31mMemoryError\u001b[0m: Unable to allocate 63.0 GiB for an array with shape (121830, 138744) and data type float32"
     ]
    }
   ],
   "source": [
    "# Rescale and normalize the Sentinel-1 data\n",
    "sentinel_data = (sentinel_data - np.min(sentinel_data)) / (np.max(sentinel_data) - np.min(sentinel_data))\n",
    "\n",
    "# Convert the SMAP soil moisture data to the same shape as the Sentinel-1 data\n",
    "soil_moisture = np.tile(soil_moisture, (sentinel_data.shape[1], sentinel_data.shape[2], 1))\n",
    "soil_moisture = soil_moisture.transpose((2, 0, 1))"
   ]
  },
  {
   "cell_type": "code",
   "execution_count": 10,
   "metadata": {},
   "outputs": [],
   "source": [
    "# Rescale and normalize the Sentinel-1 data\n",
    "sentinel_data = (sentinel_data - np.min(sentinel_data)) / (np.max(sentinel_data) - np.min(sentinel_data))\n",
    "\n",
    "# Downsample the SMAP data by a factor of 4\n",
    "soil_moisture = block_reduce(soil_moisture, block_size=(1, 4, 4), func=np.mean)\n",
    "\n"
   ]
  },
  {
   "cell_type": "code",
   "execution_count": 7,
   "metadata": {},
   "outputs": [
    {
     "ename": "NameError",
     "evalue": "name 'block_reduce' is not defined",
     "output_type": "error",
     "traceback": [
      "\u001b[0;31m---------------------------------------------------------------------------\u001b[0m",
      "\u001b[0;31mNameError\u001b[0m                                 Traceback (most recent call last)",
      "Cell \u001b[0;32mIn[7], line 5\u001b[0m\n\u001b[1;32m      2\u001b[0m sentinel_data \u001b[39m=\u001b[39m (sentinel_data \u001b[39m-\u001b[39m np\u001b[39m.\u001b[39mmin(sentinel_data)) \u001b[39m/\u001b[39m (np\u001b[39m.\u001b[39mmax(sentinel_data) \u001b[39m-\u001b[39m np\u001b[39m.\u001b[39mmin(sentinel_data))\n\u001b[1;32m      4\u001b[0m \u001b[39m# Downsample the SMAP data by a factor of 4\u001b[39;00m\n\u001b[0;32m----> 5\u001b[0m soil_moisture \u001b[39m=\u001b[39m block_reduce(soil_moisture, block_size\u001b[39m=\u001b[39m(\u001b[39m1\u001b[39m, \u001b[39m4\u001b[39m, \u001b[39m4\u001b[39m), func\u001b[39m=\u001b[39mnp\u001b[39m.\u001b[39mmean)\n",
      "\u001b[0;31mNameError\u001b[0m: name 'block_reduce' is not defined"
     ]
    }
   ],
   "source": [
    "# Rescale and normalize the Sentinel-1 data\n",
    "sentinel_data = (sentinel_data - np.min(sentinel_data)) / (np.max(sentinel_data) - np.min(sentinel_data))\n",
    "\n",
    "# Downsample the SMAP data by a factor of 4\n",
    "soil_moisture = block_reduce(soil_moisture, block_size=(1, 4, 4), func=np.mean)\n"
   ]
  },
  {
   "cell_type": "code",
   "execution_count": 8,
   "metadata": {},
   "outputs": [
    {
     "name": "stdout",
     "output_type": "stream",
     "text": [
      "Collecting scikit-image\n",
      "  Downloading scikit_image-0.20.0-cp311-cp311-manylinux_2_17_x86_64.manylinux2014_x86_64.whl (12.9 MB)\n",
      "\u001b[2K     \u001b[38;2;114;156;31m━━━━━━━━━━━━━━━━━━━━━━━━━━━━━━━━━━━━━━━━\u001b[0m \u001b[32m12.9/12.9 MB\u001b[0m \u001b[31m3.4 MB/s\u001b[0m eta \u001b[36m0:00:00\u001b[0mm eta \u001b[36m0:00:01\u001b[0m[36m0:00:01\u001b[0m\n",
      "\u001b[?25hRequirement already satisfied: numpy>=1.21.1 in /home/suraj/anaconda3/envs/smc-ip_Env/lib/python3.11/site-packages (from scikit-image) (1.24.3)\n",
      "Requirement already satisfied: scipy>=1.8 in /home/suraj/anaconda3/envs/smc-ip_Env/lib/python3.11/site-packages (from scikit-image) (1.10.1)\n",
      "Collecting networkx>=2.8\n",
      "  Downloading networkx-3.1-py3-none-any.whl (2.1 MB)\n",
      "\u001b[2K     \u001b[38;2;114;156;31m━━━━━━━━━━━━━━━━━━━━━━━━━━━━━━━━━━━━━━━━\u001b[0m \u001b[32m2.1/2.1 MB\u001b[0m \u001b[31m2.8 MB/s\u001b[0m eta \u001b[36m0:00:00\u001b[0mm eta \u001b[36m0:00:01\u001b[0m[36m0:00:01\u001b[0m\n",
      "\u001b[?25hRequirement already satisfied: pillow>=9.0.1 in /home/suraj/anaconda3/envs/smc-ip_Env/lib/python3.11/site-packages (from scikit-image) (9.4.0)\n",
      "Collecting imageio>=2.4.1\n",
      "  Downloading imageio-2.28.1-py3-none-any.whl (3.4 MB)\n",
      "\u001b[2K     \u001b[38;2;114;156;31m━━━━━━━━━━━━━━━━━━━━━━━━━━━━━━━━━━━━━━━━\u001b[0m \u001b[32m3.4/3.4 MB\u001b[0m \u001b[31m1.8 MB/s\u001b[0m eta \u001b[36m0:00:00\u001b[0mm eta \u001b[36m0:00:01\u001b[0m[36m0:00:01\u001b[0m\n",
      "\u001b[?25hCollecting tifffile>=2019.7.26\n",
      "  Downloading tifffile-2023.4.12-py3-none-any.whl (219 kB)\n",
      "\u001b[2K     \u001b[38;2;114;156;31m━━━━━━━━━━━━━━━━━━━━━━━━━━━━━━━━━━━━━━━\u001b[0m \u001b[32m219.4/219.4 kB\u001b[0m \u001b[31m2.1 MB/s\u001b[0m eta \u001b[36m0:00:00\u001b[0m[31m2.5 MB/s\u001b[0m eta \u001b[36m0:00:01\u001b[0m\n",
      "\u001b[?25hCollecting PyWavelets>=1.1.1\n",
      "  Downloading PyWavelets-1.4.1-cp311-cp311-manylinux_2_17_x86_64.manylinux2014_x86_64.whl (7.0 MB)\n",
      "\u001b[2K     \u001b[38;2;114;156;31m━━━━━━━━━━━━━━━━━━━━━━━━━━━━━━━━━━━━━━━━\u001b[0m \u001b[32m7.0/7.0 MB\u001b[0m \u001b[31m2.6 MB/s\u001b[0m eta \u001b[36m0:00:00\u001b[0mm eta \u001b[36m0:00:01\u001b[0m[36m0:00:01\u001b[0m\n",
      "\u001b[?25hRequirement already satisfied: packaging>=20.0 in /home/suraj/anaconda3/envs/smc-ip_Env/lib/python3.11/site-packages (from scikit-image) (23.0)\n",
      "Collecting lazy_loader>=0.1\n",
      "  Downloading lazy_loader-0.2-py3-none-any.whl (8.6 kB)\n",
      "Installing collected packages: tifffile, PyWavelets, networkx, lazy_loader, imageio, scikit-image\n",
      "Successfully installed PyWavelets-1.4.1 imageio-2.28.1 lazy_loader-0.2 networkx-3.1 scikit-image-0.20.0 tifffile-2023.4.12\n",
      "Note: you may need to restart the kernel to use updated packages.\n"
     ]
    }
   ],
   "source": [
    "%pip install scikit-image\n"
   ]
  },
  {
   "cell_type": "code",
   "execution_count": 9,
   "metadata": {},
   "outputs": [],
   "source": [
    "from skimage.measure import block_reduce"
   ]
  },
  {
   "cell_type": "code",
   "execution_count": 11,
   "metadata": {},
   "outputs": [],
   "source": [
    "# Tile the SMAP data to match the Sentinel-1 data\n",
    "soil_moisture = np.tile(soil_moisture, (sentinel_data.shape[1], sentinel_data.shape[2], 1))\n",
    "soil_moisture = soil_moisture.transpose((2, 0, 1))"
   ]
  },
  {
   "cell_type": "code",
   "execution_count": 12,
   "metadata": {},
   "outputs": [],
   "source": [
    "np.save('sentinal1.npy',sentinel_data)\n",
    "np.save('smap.npy',soil_moisture)"
   ]
  },
  {
   "cell_type": "code",
   "execution_count": 2,
   "metadata": {},
   "outputs": [],
   "source": [
    "import numpy as np\n",
    "from sklearn.model_selection import train_test_split\n",
    "from sklearn.ensemble import RandomForestRegressor\n",
    "from sklearn.metrics import mean_squared_error, r2_score\n"
   ]
  },
  {
   "cell_type": "code",
   "execution_count": 5,
   "metadata": {},
   "outputs": [],
   "source": [
    "# Load the preprocessed Sentinel-1 and SMAP data\n",
    "sentinel_data = np.load('sentinal1.npy')\n",
    "smap_data = np.load('smap.npy')"
   ]
  },
  {
   "cell_type": "code",
   "execution_count": 11,
   "metadata": {},
   "outputs": [
    {
     "data": {
      "text/plain": [
       "(93, 310, 36942)"
      ]
     },
     "execution_count": 11,
     "metadata": {},
     "output_type": "execute_result"
    }
   ],
   "source": [
    "# smap_data = soil_moisture\n",
    "smap_data.shape\n",
    "# sentinel_data.shape"
   ]
  },
  {
   "cell_type": "code",
   "execution_count": 6,
   "metadata": {},
   "outputs": [
    {
     "ename": "MemoryError",
     "evalue": "Unable to allocate 1.20 TiB for an array with shape (310, 1065037860) and data type float32",
     "output_type": "error",
     "traceback": [
      "\u001b[0;31m---------------------------------------------------------------------------\u001b[0m",
      "\u001b[0;31mMemoryError\u001b[0m                               Traceback (most recent call last)",
      "Cell \u001b[0;32mIn[6], line 2\u001b[0m\n\u001b[1;32m      1\u001b[0m \u001b[38;5;66;03m# Tile the SMAP data to match the Sentinel-1 data\u001b[39;00m\n\u001b[0;32m----> 2\u001b[0m smap_data \u001b[38;5;241m=\u001b[39m np\u001b[38;5;241m.\u001b[39mtile(smap_data, (sentinel_data\u001b[38;5;241m.\u001b[39mshape[\u001b[38;5;241m1\u001b[39m], sentinel_data\u001b[38;5;241m.\u001b[39mshape[\u001b[38;5;241m2\u001b[39m], \u001b[38;5;241m1\u001b[39m))\n\u001b[1;32m      3\u001b[0m smap_data \u001b[38;5;241m=\u001b[39m smap_data\u001b[38;5;241m.\u001b[39mtranspose((\u001b[38;5;241m2\u001b[39m, \u001b[38;5;241m0\u001b[39m, \u001b[38;5;241m1\u001b[39m))\n\u001b[1;32m      5\u001b[0m \u001b[38;5;66;03m# Flatten the data into 2D arrays\u001b[39;00m\n",
      "File \u001b[0;32m<__array_function__ internals>:200\u001b[0m, in \u001b[0;36mtile\u001b[0;34m(*args, **kwargs)\u001b[0m\n",
      "File \u001b[0;32m~/anaconda3/envs/smc-ip_Env/lib/python3.11/site-packages/numpy/lib/shape_base.py:1278\u001b[0m, in \u001b[0;36mtile\u001b[0;34m(A, reps)\u001b[0m\n\u001b[1;32m   1276\u001b[0m     \u001b[38;5;28;01mfor\u001b[39;00m dim_in, nrep \u001b[38;5;129;01min\u001b[39;00m \u001b[38;5;28mzip\u001b[39m(c\u001b[38;5;241m.\u001b[39mshape, tup):\n\u001b[1;32m   1277\u001b[0m         \u001b[38;5;28;01mif\u001b[39;00m nrep \u001b[38;5;241m!=\u001b[39m \u001b[38;5;241m1\u001b[39m:\n\u001b[0;32m-> 1278\u001b[0m             c \u001b[38;5;241m=\u001b[39m c\u001b[38;5;241m.\u001b[39mreshape(\u001b[38;5;241m-\u001b[39m\u001b[38;5;241m1\u001b[39m, n)\u001b[38;5;241m.\u001b[39mrepeat(nrep, \u001b[38;5;241m0\u001b[39m)\n\u001b[1;32m   1279\u001b[0m         n \u001b[38;5;241m/\u001b[39m\u001b[38;5;241m/\u001b[39m\u001b[38;5;241m=\u001b[39m dim_in\n\u001b[1;32m   1280\u001b[0m \u001b[38;5;28;01mreturn\u001b[39;00m c\u001b[38;5;241m.\u001b[39mreshape(shape_out)\n",
      "\u001b[0;31mMemoryError\u001b[0m: Unable to allocate 1.20 TiB for an array with shape (310, 1065037860) and data type float32"
     ]
    }
   ],
   "source": [
    "\n",
    "\n",
    "\n",
    "# Tile the SMAP data to match the Sentinel-1 data\n",
    "smap_data = np.tile(smap_data, (sentinel_data.shape[1], sentinel_data.shape[2], 1))\n",
    "smap_data = smap_data.transpose((2, 0, 1))\n",
    "\n",
    "# Flatten the data into 2D arrays\n",
    "sentinel_data = sentinel_data.reshape(sentinel_data.shape[0], -1)\n",
    "smap_data = smap_data.reshape(smap_data.shape[0], -1)\n",
    "\n",
    "# Split the data into training and testing sets\n",
    "X_train, X_test, y_train, y_test = train_test_split(sentinel_data, smap_data, test_size=0.3, random_state=42)\n",
    "\n",
    "# Train a random forest regressor on the training data\n",
    "rf = RandomForestRegressor(n_estimators=100, random_state=42)\n",
    "rf.fit(X_train, y_train)\n",
    "\n",
    "# Make predictions on the testing data\n",
    "y_pred = rf.predict(X_test)\n",
    "\n",
    "# Evaluate the performance of the model on the testing data\n",
    "mse = mean_squared_error(y_test, y_pred)\n",
    "rmse = np.sqrt(mse)\n",
    "r2 = r2_score(y_test, y_pred)\n",
    "print(f\"Root mean squared error: {rmse:.2f}\")\n",
    "print(f\"Coefficient of determination (R^2): {r2:.2f}\")\n"
   ]
  },
  {
   "cell_type": "code",
   "execution_count": null,
   "metadata": {},
   "outputs": [],
   "source": [
    "from joblib import dump\n",
    "\n",
    "\n",
    "# Save the trained model to a file\n",
    "dump(rf, 'random_forest_model.joblib')"
   ]
  }
 ],
 "metadata": {
  "kernelspec": {
   "display_name": "Python 3 (ipykernel)",
   "language": "python",
   "name": "python3"
  },
  "language_info": {
   "codemirror_mode": {
    "name": "ipython",
    "version": 3
   },
   "file_extension": ".py",
   "mimetype": "text/x-python",
   "name": "python",
   "nbconvert_exporter": "python",
   "pygments_lexer": "ipython3",
   "version": "3.11.3"
  }
 },
 "nbformat": 4,
 "nbformat_minor": 2
}
