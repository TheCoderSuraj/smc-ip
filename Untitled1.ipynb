{
 "cells": [
  {
   "cell_type": "code",
   "execution_count": 7,
   "id": "0f91fc22",
   "metadata": {},
   "outputs": [],
   "source": [
    "# sen = \"/home/suraj/Desktop/ip/res/S1A_IW_SLC__1SDV_20230409T003909_20230409T003936_048012_05C553_2EC0.SAFE/measurement\"\n",
    "smap = \"\"\n",
    "sen = \"/home/suraj/Desktop/ip/res/s1/measurement/s1a.tiff\""
   ]
  },
  {
   "cell_type": "code",
   "execution_count": 3,
   "id": "be04ccf7",
   "metadata": {},
   "outputs": [],
   "source": [
    "import numpy as np\n",
    "import pandas as pd\n",
    "from sklearn.ensemble import RandomForestRegressor\n",
    "from sklearn.metrics import r2_score\n",
    "from sklearn.model_selection import train_test_split\n",
    "from osgeo import gdal\n",
    "\n"
   ]
  },
  {
   "cell_type": "code",
   "execution_count": 8,
   "id": "ad79f58b",
   "metadata": {},
   "outputs": [
    {
     "name": "stderr",
     "output_type": "stream",
     "text": [
      "/tmp/ipykernel_10579/1724681359.py:4: ComplexWarning: Casting complex values to real discards the imaginary part\n",
      "  s1_data = gdal.Open(s1_file).ReadAsArray().astype(np.float32)\n"
     ]
    },
    {
     "ename": "ValueError",
     "evalue": "axes don't match array",
     "output_type": "error",
     "traceback": [
      "\u001b[0;31m---------------------------------------------------------------------------\u001b[0m",
      "\u001b[0;31mValueError\u001b[0m                                Traceback (most recent call last)",
      "Cell \u001b[0;32mIn[8], line 5\u001b[0m\n\u001b[1;32m      3\u001b[0m s1_file \u001b[38;5;241m=\u001b[39m sen\n\u001b[1;32m      4\u001b[0m s1_data \u001b[38;5;241m=\u001b[39m gdal\u001b[38;5;241m.\u001b[39mOpen(s1_file)\u001b[38;5;241m.\u001b[39mReadAsArray()\u001b[38;5;241m.\u001b[39mastype(np\u001b[38;5;241m.\u001b[39mfloat32)\n\u001b[0;32m----> 5\u001b[0m s1_data \u001b[38;5;241m=\u001b[39m np\u001b[38;5;241m.\u001b[39mtranspose(s1_data, (\u001b[38;5;241m1\u001b[39m, \u001b[38;5;241m2\u001b[39m, \u001b[38;5;241m0\u001b[39m))\n",
      "File \u001b[0;32m<__array_function__ internals>:200\u001b[0m, in \u001b[0;36mtranspose\u001b[0;34m(*args, **kwargs)\u001b[0m\n",
      "File \u001b[0;32m~/anaconda3/envs/smc-ip_Env/lib/python3.11/site-packages/numpy/core/fromnumeric.py:668\u001b[0m, in \u001b[0;36mtranspose\u001b[0;34m(a, axes)\u001b[0m\n\u001b[1;32m    601\u001b[0m \u001b[38;5;129m@array_function_dispatch\u001b[39m(_transpose_dispatcher)\n\u001b[1;32m    602\u001b[0m \u001b[38;5;28;01mdef\u001b[39;00m \u001b[38;5;21mtranspose\u001b[39m(a, axes\u001b[38;5;241m=\u001b[39m\u001b[38;5;28;01mNone\u001b[39;00m):\n\u001b[1;32m    603\u001b[0m     \u001b[38;5;124;03m\"\"\"\u001b[39;00m\n\u001b[1;32m    604\u001b[0m \u001b[38;5;124;03m    Returns an array with axes transposed.\u001b[39;00m\n\u001b[1;32m    605\u001b[0m \n\u001b[0;32m   (...)\u001b[0m\n\u001b[1;32m    666\u001b[0m \n\u001b[1;32m    667\u001b[0m \u001b[38;5;124;03m    \"\"\"\u001b[39;00m\n\u001b[0;32m--> 668\u001b[0m     \u001b[38;5;28;01mreturn\u001b[39;00m _wrapfunc(a, \u001b[38;5;124m'\u001b[39m\u001b[38;5;124mtranspose\u001b[39m\u001b[38;5;124m'\u001b[39m, axes)\n",
      "File \u001b[0;32m~/anaconda3/envs/smc-ip_Env/lib/python3.11/site-packages/numpy/core/fromnumeric.py:57\u001b[0m, in \u001b[0;36m_wrapfunc\u001b[0;34m(obj, method, *args, **kwds)\u001b[0m\n\u001b[1;32m     54\u001b[0m     \u001b[38;5;28;01mreturn\u001b[39;00m _wrapit(obj, method, \u001b[38;5;241m*\u001b[39margs, \u001b[38;5;241m*\u001b[39m\u001b[38;5;241m*\u001b[39mkwds)\n\u001b[1;32m     56\u001b[0m \u001b[38;5;28;01mtry\u001b[39;00m:\n\u001b[0;32m---> 57\u001b[0m     \u001b[38;5;28;01mreturn\u001b[39;00m bound(\u001b[38;5;241m*\u001b[39margs, \u001b[38;5;241m*\u001b[39m\u001b[38;5;241m*\u001b[39mkwds)\n\u001b[1;32m     58\u001b[0m \u001b[38;5;28;01mexcept\u001b[39;00m \u001b[38;5;167;01mTypeError\u001b[39;00m:\n\u001b[1;32m     59\u001b[0m     \u001b[38;5;66;03m# A TypeError occurs if the object does have such a method in its\u001b[39;00m\n\u001b[1;32m     60\u001b[0m     \u001b[38;5;66;03m# class, but its signature is not identical to that of NumPy's. This\u001b[39;00m\n\u001b[0;32m   (...)\u001b[0m\n\u001b[1;32m     64\u001b[0m     \u001b[38;5;66;03m# Call _wrapit from within the except clause to ensure a potential\u001b[39;00m\n\u001b[1;32m     65\u001b[0m     \u001b[38;5;66;03m# exception has a traceback chain.\u001b[39;00m\n\u001b[1;32m     66\u001b[0m     \u001b[38;5;28;01mreturn\u001b[39;00m _wrapit(obj, method, \u001b[38;5;241m*\u001b[39margs, \u001b[38;5;241m*\u001b[39m\u001b[38;5;241m*\u001b[39mkwds)\n",
      "\u001b[0;31mValueError\u001b[0m: axes don't match array"
     ]
    }
   ],
   "source": [
    "# Load Sentinel-1 data\n",
    "# s1_file = 'path/to/sentinel-1/image.tif'\n",
    "s1_file = sen\n",
    "s1_data = gdal.Open(s1_file).ReadAsArray().astype(np.float32)\n",
    "s1_data = np.transpose(s1_data, (1, 2, 0))"
   ]
  },
  {
   "cell_type": "code",
   "execution_count": 9,
   "id": "e6758f8c",
   "metadata": {},
   "outputs": [
    {
     "name": "stderr",
     "output_type": "stream",
     "text": [
      "/tmp/ipykernel_10579/633191166.py:7: ComplexWarning: Casting complex values to real discards the imaginary part\n",
      "  s1_amplitude = np.abs(s1_data.GetRasterBand(1).ReadAsArray().astype(np.float32))\n"
     ]
    }
   ],
   "source": [
    "# import gdal\n",
    "# import numpy as np\n",
    "\n",
    "# Load Sentinel-1 data\n",
    "s1_file = sen\n",
    "s1_data = gdal.Open(s1_file, gdal.GA_ReadOnly)\n",
    "s1_amplitude = np.abs(s1_data.GetRasterBand(1).ReadAsArray().astype(np.float32))\n"
   ]
  },
  {
   "cell_type": "code",
   "execution_count": null,
   "id": "3e51de33",
   "metadata": {},
   "outputs": [],
   "source": [
    "\n",
    "\n",
    "# Load SMAP data\n",
    "smap_file = smap\n",
    "smap_data = gdal.Open(smap_file).ReadAsArray().astype(np.float32)\n",
    "\n",
    "# Flatten the Sentinel-1 and SMAP data into 2D arrays\n",
    "s1_shape = s1_data.shape\n",
    "s1_flat = s1_data.reshape((s1_shape[0] * s1_shape[1], s1_shape[2]))\n",
    "smap_flat = smap_data.flatten()\n",
    "\n",
    "# Remove pixels with missing SMAP data\n",
    "smap_mask = smap_flat != -9999.0\n",
    "s1_flat = s1_flat[smap_mask]\n",
    "smap_flat = smap_flat[smap_mask]\n",
    "\n",
    "# Split the data into training and testing sets\n",
    "X_train, X_test, y_train, y_test = train_test_split(s1_flat, smap_flat, test_size=0.2, random_state=42)\n",
    "\n",
    "# Train a random forest model\n",
    "rf_model = RandomForestRegressor(n_estimators=100, random_state=42)\n",
    "rf_model.fit(X_train, y_train)\n",
    "\n",
    "# Evaluate the model performance on the testing set\n",
    "y_pred = rf_model.predict(X_test)\n",
    "r2 = r2_score(y_test, y_pred)\n",
    "print('R-squared:', r2)\n"
   ]
  }
 ],
 "metadata": {
  "kernelspec": {
   "display_name": "Python 3 (ipykernel)",
   "language": "python",
   "name": "python3"
  },
  "language_info": {
   "codemirror_mode": {
    "name": "ipython",
    "version": 3
   },
   "file_extension": ".py",
   "mimetype": "text/x-python",
   "name": "python",
   "nbconvert_exporter": "python",
   "pygments_lexer": "ipython3",
   "version": "3.11.3"
  }
 },
 "nbformat": 4,
 "nbformat_minor": 5
}
