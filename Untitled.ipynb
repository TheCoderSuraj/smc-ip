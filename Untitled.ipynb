{
 "cells": [
  {
   "cell_type": "code",
   "execution_count": 9,
   "id": "15bd0141",
   "metadata": {},
   "outputs": [],
   "source": [
    "import numpy as np\n",
    "import pandas as pd\n",
    "from sklearn.ensemble import RandomForestRegressor\n",
    "from osgeo import gdal"
   ]
  },
  {
   "cell_type": "code",
   "execution_count": 10,
   "id": "30e913bf",
   "metadata": {},
   "outputs": [
    {
     "name": "stderr",
     "output_type": "stream",
     "text": [
      "ERROR 4: `/home/suraj/Desktop/ip/res/S1A_IW_SLC__1SDV_20230409T003909_20230409T003936_048012_05C553_2EC0.SAFE/measurement' not recognized as a supported file format.\n"
     ]
    },
    {
     "ename": "AttributeError",
     "evalue": "'NoneType' object has no attribute 'ReadAsArray'",
     "output_type": "error",
     "traceback": [
      "\u001b[0;31m---------------------------------------------------------------------------\u001b[0m",
      "\u001b[0;31mAttributeError\u001b[0m                            Traceback (most recent call last)",
      "Cell \u001b[0;32mIn[10], line 7\u001b[0m\n\u001b[1;32m      5\u001b[0m \u001b[38;5;66;03m# Load the Sentinel-1 data using gdal\u001b[39;00m\n\u001b[1;32m      6\u001b[0m gdal_data \u001b[38;5;241m=\u001b[39m gdal\u001b[38;5;241m.\u001b[39mOpen(image_path)\n\u001b[0;32m----> 7\u001b[0m data \u001b[38;5;241m=\u001b[39m gdal_data\u001b[38;5;241m.\u001b[39mReadAsArray()\n\u001b[1;32m      9\u001b[0m \u001b[38;5;66;03m# Flatten the data into a 2D array\u001b[39;00m\n\u001b[1;32m     10\u001b[0m rows, cols \u001b[38;5;241m=\u001b[39m data\u001b[38;5;241m.\u001b[39mshape[\u001b[38;5;241m1\u001b[39m:]\n",
      "\u001b[0;31mAttributeError\u001b[0m: 'NoneType' object has no attribute 'ReadAsArray'"
     ]
    }
   ],
   "source": [
    "# Set the paths to the Sentinel-1 data and the output file\n",
    "image_path = 'path/to/sentinel/image.tif'\n",
    "output_path = 'output.csv'\n",
    "\n",
    "# Load the Sentinel-1 data using gdal\n",
    "gdal_data = gdal.Open(image_path)\n",
    "data = gdal_data.ReadAsArray()\n",
    "\n",
    "# Flatten the data into a 2D array\n",
    "rows, cols = data.shape[1:]\n",
    "data_2d = data.reshape(data.shape[0], rows * cols).T\n",
    "\n",
    "# Load the feature data into a pandas DataFrame\n",
    "df = pd.DataFrame(data_2d)\n",
    "\n",
    "# Define the target variable (soil moisture)\n",
    "target = np.random.rand(rows * cols)\n",
    "\n",
    "# Train a Random Forest model\n",
    "rf = RandomForestRegressor(n_estimators=100, max_depth=10, random_state=0)\n",
    "rf.fit(df, target)\n",
    "\n",
    "# Predict soil moisture values for the Sentinel-1 data\n",
    "soil_moisture_pred = rf.predict(df)\n",
    "\n",
    "# Save the predicted soil moisture values to a CSV file\n",
    "np.savetxt(output_path, soil_moisture_pred, delimiter=\",\")\n"
   ]
  },
  {
   "cell_type": "code",
   "execution_count": 11,
   "id": "62266050",
   "metadata": {},
   "outputs": [
    {
     "ename": "ModuleNotFoundError",
     "evalue": "No module named 'rasterio'",
     "output_type": "error",
     "traceback": [
      "\u001b[0;31m---------------------------------------------------------------------------\u001b[0m",
      "\u001b[0;31mModuleNotFoundError\u001b[0m                       Traceback (most recent call last)",
      "Cell \u001b[0;32mIn[11], line 1\u001b[0m\n\u001b[0;32m----> 1\u001b[0m \u001b[38;5;28;01mimport\u001b[39;00m \u001b[38;5;21;01mrasterio\u001b[39;00m\n\u001b[1;32m      2\u001b[0m \u001b[38;5;28;01mimport\u001b[39;00m \u001b[38;5;21;01mnumpy\u001b[39;00m \u001b[38;5;28;01mas\u001b[39;00m \u001b[38;5;21;01mnp\u001b[39;00m\n\u001b[1;32m      3\u001b[0m \u001b[38;5;28;01mimport\u001b[39;00m \u001b[38;5;21;01mpandas\u001b[39;00m \u001b[38;5;28;01mas\u001b[39;00m \u001b[38;5;21;01mpd\u001b[39;00m\n",
      "\u001b[0;31mModuleNotFoundError\u001b[0m: No module named 'rasterio'"
     ]
    }
   ],
   "source": [
    "import rasterio\n",
    "import numpy as np\n",
    "import pandas as pd\n",
    "from sklearn.ensemble import RandomForestRegressor\n",
    "\n",
    "# Open the Sentinel-1 image\n",
    "with rasterio.open('/path/to/sentinel1_image.tif') as src:\n",
    "    sentinel1 = src.read()\n",
    "\n",
    "# Reshape the data into a 2D array for processing\n",
    "sentinel1_flat = sentinel1.reshape(sentinel1.shape[0], -1).T\n",
    "\n",
    "# Load the training data\n",
    "train_df = pd.read_csv('ztraining_data.csv')\n",
    "\n",
    "# Extract the features and target from the training data\n",
    "X_train = train_df.drop(columns=['soil_moisture']).values\n",
    "y_train = train_df['soil_moisture'].values\n",
    "\n",
    "# Train the Random Forest model\n",
    "rf = RandomForestRegressor(n_estimators=100, random_state=42)\n",
    "rf.fit(X_train, y_train)\n",
    "\n",
    "# Predict soil moisture for the Sentinel-1 image\n",
    "y_pred = rf.predict(sentinel1_flat)\n",
    "\n",
    "# Reshape the predicted soil moisture back into the original image shape\n",
    "y_pred_2d = y_pred.reshape(sentinel1.shape[1], sentinel1.shape[2])\n",
    "\n",
    "# Save the predicted soil moisture to a new GeoTIFF file\n",
    "with rasterio.open('predicted_soil_moisture.tif', 'w', \n",
    "                   driver='GTiff', width=y_pred_2d.shape[1], \n",
    "                   height=y_pred_2d.shape[0], count=1, \n",
    "                   dtype=rasterio.float64, crs=src.crs, \n",
    "                   transform=src.transform) as dst:\n",
    "    dst.write(y_pred_2d, 1)\n"
   ]
  },
  {
   "cell_type": "code",
   "execution_count": null,
   "id": "a3a93431",
   "metadata": {},
   "outputs": [],
   "source": []
  }
 ],
 "metadata": {
  "kernelspec": {
   "display_name": "Python 3 (ipykernel)",
   "language": "python",
   "name": "python3"
  },
  "language_info": {
   "codemirror_mode": {
    "name": "ipython",
    "version": 3
   },
   "file_extension": ".py",
   "mimetype": "text/x-python",
   "name": "python",
   "nbconvert_exporter": "python",
   "pygments_lexer": "ipython3",
   "version": "3.11.3"
  }
 },
 "nbformat": 4,
 "nbformat_minor": 5
}
